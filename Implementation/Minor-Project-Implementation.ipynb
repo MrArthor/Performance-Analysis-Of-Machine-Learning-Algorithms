{
 "cells": [
  {
   "cell_type": "code",
   "execution_count": 1,
   "id": "c57db551",
   "metadata": {
    "scrolled": false
   },
   "outputs": [
    {
     "name": "stdout",
     "output_type": "stream",
     "text": [
      "Requirement already satisfied: feature_engine in c:\\programdata\\anaconda3\\lib\\site-packages (1.1.2)\n",
      "Requirement already satisfied: imbalanced_learn in c:\\programdata\\anaconda3\\lib\\site-packages (0.8.1)\n",
      "Requirement already satisfied: numpy>=1.18.2 in c:\\programdata\\anaconda3\\lib\\site-packages (from feature_engine) (1.20.3)\n",
      "Requirement already satisfied: scipy>=1.4.1 in c:\\programdata\\anaconda3\\lib\\site-packages (from feature_engine) (1.7.1)\n",
      "Requirement already satisfied: pandas>=1.0.3 in c:\\programdata\\anaconda3\\lib\\site-packages (from feature_engine) (1.3.4)\n",
      "Requirement already satisfied: statsmodels>=0.11.1 in c:\\programdata\\anaconda3\\lib\\site-packages (from feature_engine) (0.12.2)\n",
      "Requirement already satisfied: scikit-learn>=0.22.2 in c:\\programdata\\anaconda3\\lib\\site-packages (from feature_engine) (0.24.2)\n",
      "Requirement already satisfied: joblib>=0.11 in c:\\programdata\\anaconda3\\lib\\site-packages (from imbalanced_learn) (1.1.0)\n",
      "Requirement already satisfied: python-dateutil>=2.7.3 in c:\\programdata\\anaconda3\\lib\\site-packages (from pandas>=1.0.3->feature_engine) (2.8.2)\n",
      "Requirement already satisfied: pytz>=2017.3 in c:\\programdata\\anaconda3\\lib\\site-packages (from pandas>=1.0.3->feature_engine) (2021.3)\n",
      "Requirement already satisfied: six>=1.5 in c:\\programdata\\anaconda3\\lib\\site-packages (from python-dateutil>=2.7.3->pandas>=1.0.3->feature_engine) (1.16.0)\n",
      "Requirement already satisfied: threadpoolctl>=2.0.0 in c:\\programdata\\anaconda3\\lib\\site-packages (from scikit-learn>=0.22.2->feature_engine) (2.2.0)\n",
      "Requirement already satisfied: patsy>=0.5 in c:\\programdata\\anaconda3\\lib\\site-packages (from statsmodels>=0.11.1->feature_engine) (0.5.2)\n"
     ]
    },
    {
     "name": "stderr",
     "output_type": "stream",
     "text": [
      "WARNING: Ignoring invalid distribution -arso (c:\\programdata\\anaconda3\\lib\\site-packages)\n",
      "WARNING: Ignoring invalid distribution -arso (c:\\programdata\\anaconda3\\lib\\site-packages)\n",
      "WARNING: Ignoring invalid distribution -arso (c:\\programdata\\anaconda3\\lib\\site-packages)\n",
      "WARNING: Ignoring invalid distribution -arso (c:\\programdata\\anaconda3\\lib\\site-packages)\n",
      "WARNING: Ignoring invalid distribution -arso (c:\\programdata\\anaconda3\\lib\\site-packages)\n",
      "WARNING: Ignoring invalid distribution -arso (c:\\programdata\\anaconda3\\lib\\site-packages)\n"
     ]
    }
   ],
   "source": [
    "!pip install feature_engine imbalanced_learn"
   ]
  },
  {
   "cell_type": "code",
   "execution_count": null,
   "id": "5473d429",
   "metadata": {},
   "outputs": [],
   "source": []
  },
  {
   "cell_type": "code",
   "execution_count": null,
   "id": "644199f0",
   "metadata": {},
   "outputs": [],
   "source": []
  },
  {
   "cell_type": "markdown",
   "id": "e1636067",
   "metadata": {},
   "source": [
    "# Importing the necessary Python Packages"
   ]
  },
  {
   "cell_type": "code",
   "execution_count": 2,
   "id": "971d3655",
   "metadata": {
    "scrolled": true
   },
   "outputs": [],
   "source": [
    "import math\n",
    "import operator\n",
    "import numpy as NumPy\n",
    "import pandas as Pandas\n",
    "import matplotlib.pyplot as PyPlot\n",
    "from sklearn.metrics import confusion_matrix, ConfusionMatrixDisplay\n",
    "\n",
    "import seaborn as SeaBorn\n",
    "from matplotlib import gridspec\n",
    "from sklearn.neighbors import KNeighborsClassifier # KNN algorithm\n",
    "from sklearn.preprocessing import StandardScaler # data normalization\n",
    "from sklearn.model_selection import train_test_split # data split\n",
    "from sklearn.tree import DecisionTreeClassifier # Decision tree algorithm\n",
    "from sklearn.neighbors import KNeighborsClassifier # KNN algorithm\n",
    "from sklearn.linear_model import LogisticRegression # Logistic regression algorithm\n",
    "from sklearn.svm import SVC # SVM algorithm\n",
    "from sklearn.ensemble import RandomForestClassifier # Random forest tree algorithm\n",
    "from sklearn.neural_network import MLPClassifier\n",
    "from sklearn.impute import SimpleImputer\n",
    "from imblearn.under_sampling import RandomUnderSampler\n",
    "from feature_engine.encoding import WoEEncoder, RareLabelEncoder\n",
    "from sklearn.ensemble import RandomForestClassifier\n",
    "from sklearn.model_selection import GridSearchCV\n",
    "from sklearn.metrics import confusion_matrix # evaluation metric\n",
    "from sklearn.metrics import accuracy_score # evaluation metric\n",
    "from sklearn.metrics import recall_score\n",
    "from sklearn.metrics import classification_report\n",
    "from sklearn.metrics import precision_score\n",
    "from sklearn.metrics import f1_score\n",
    "from sklearn.metrics import confusion_matrix\n",
    "from sklearn import metrics\n",
    "import webbrowser"
   ]
  },
  {
   "cell_type": "code",
   "execution_count": null,
   "id": "1483cad5",
   "metadata": {},
   "outputs": [],
   "source": []
  },
  {
   "cell_type": "code",
   "execution_count": null,
   "id": "2a5bb50b",
   "metadata": {},
   "outputs": [],
   "source": []
  },
  {
   "cell_type": "code",
   "execution_count": 3,
   "id": "86257410",
   "metadata": {},
   "outputs": [],
   "source": [
    "column_dtypes = {\n",
    "    'cc_num':'object',\n",
    "    'zip': 'object'\n",
    "}\n",
    "Pandas.set_option('display.max_columns', None)"
   ]
  },
  {
   "cell_type": "code",
   "execution_count": null,
   "id": "a5a5de1d",
   "metadata": {},
   "outputs": [],
   "source": []
  },
  {
   "cell_type": "code",
   "execution_count": null,
   "id": "ea6addf3",
   "metadata": {},
   "outputs": [],
   "source": []
  },
  {
   "cell_type": "code",
   "execution_count": 4,
   "id": "1cccece2",
   "metadata": {},
   "outputs": [
    {
     "name": "stderr",
     "output_type": "stream",
     "text": [
      "C:\\ProgramData\\Anaconda3\\lib\\site-packages\\numpy\\lib\\arraysetops.py:583: FutureWarning: elementwise comparison failed; returning scalar instead, but in the future will perform elementwise comparison\n",
      "  mask |= (ar1 == a)\n"
     ]
    }
   ],
   "source": [
    "path = 'DataSet/fraudtrain.csv'\n",
    "DataFeed = Pandas.read_csv(path, index_col=0, dtype=column_dtypes, parse_dates=['trans_date_trans_time', 'dob'])"
   ]
  },
  {
   "cell_type": "code",
   "execution_count": null,
   "id": "6d740811",
   "metadata": {},
   "outputs": [],
   "source": []
  },
  {
   "cell_type": "code",
   "execution_count": null,
   "id": "d1cc2dde",
   "metadata": {},
   "outputs": [],
   "source": []
  },
  {
   "cell_type": "markdown",
   "id": "68af6c6d",
   "metadata": {},
   "source": [
    "## Showcasing Basic information such as column name and datatype, of the dataset used in the project"
   ]
  },
  {
   "cell_type": "code",
   "execution_count": 5,
   "id": "4e768ce5",
   "metadata": {},
   "outputs": [
    {
     "name": "stdout",
     "output_type": "stream",
     "text": [
      "<class 'pandas.core.frame.DataFrame'>\n",
      "Int64Index: 1296675 entries, 0 to 1296674\n",
      "Data columns (total 22 columns):\n",
      " #   Column                 Non-Null Count    Dtype         \n",
      "---  ------                 --------------    -----         \n",
      " 0   trans_date_trans_time  1296675 non-null  datetime64[ns]\n",
      " 1   cc_num                 1296675 non-null  object        \n",
      " 2   merchant               1296675 non-null  object        \n",
      " 3   category               1296675 non-null  object        \n",
      " 4   amt                    1296675 non-null  float64       \n",
      " 5   first                  1296675 non-null  object        \n",
      " 6   last                   1296675 non-null  object        \n",
      " 7   gender                 1296675 non-null  object        \n",
      " 8   street                 1296675 non-null  object        \n",
      " 9   city                   1296675 non-null  object        \n",
      " 10  state                  1296675 non-null  object        \n",
      " 11  zip                    1296675 non-null  object        \n",
      " 12  lat                    1296675 non-null  float64       \n",
      " 13  long                   1296675 non-null  float64       \n",
      " 14  city_pop               1296675 non-null  int64         \n",
      " 15  job                    1296675 non-null  object        \n",
      " 16  dob                    1296675 non-null  datetime64[ns]\n",
      " 17  trans_num              1296675 non-null  object        \n",
      " 18  unix_time              1296675 non-null  int64         \n",
      " 19  merch_lat              1296675 non-null  float64       \n",
      " 20  merch_long             1296675 non-null  float64       \n",
      " 21  is_fraud               1296675 non-null  int64         \n",
      "dtypes: datetime64[ns](2), float64(5), int64(3), object(12)\n",
      "memory usage: 227.5+ MB\n"
     ]
    }
   ],
   "source": [
    "DataFeed.info()"
   ]
  },
  {
   "cell_type": "code",
   "execution_count": null,
   "id": "0422087a",
   "metadata": {},
   "outputs": [],
   "source": []
  },
  {
   "cell_type": "code",
   "execution_count": null,
   "id": "b08ddbfb",
   "metadata": {},
   "outputs": [],
   "source": []
  },
  {
   "cell_type": "markdown",
   "id": "61338140",
   "metadata": {},
   "source": [
    "## Adding Column names into a variable for using in fututre for data encoding ( converting data from string to integear form)"
   ]
  },
  {
   "cell_type": "code",
   "execution_count": 6,
   "id": "2c92c71c",
   "metadata": {},
   "outputs": [],
   "source": [
    "columns = ['trans_date_trans_time', 'cc_num', 'merchant', 'category', 'amt', 'gender', 'lat', 'long', 'job', 'dob','merch_lat', 'merch_long', 'is_fraud']"
   ]
  },
  {
   "cell_type": "code",
   "execution_count": null,
   "id": "4afdaadc",
   "metadata": {},
   "outputs": [],
   "source": []
  },
  {
   "cell_type": "code",
   "execution_count": null,
   "id": "6192f13d",
   "metadata": {},
   "outputs": [],
   "source": []
  },
  {
   "cell_type": "markdown",
   "id": "6bf724e3",
   "metadata": {},
   "source": [
    "# Show casing first five data entries as a sample of the dataset used"
   ]
  },
  {
   "cell_type": "code",
   "execution_count": 7,
   "id": "cee66858",
   "metadata": {},
   "outputs": [
    {
     "data": {
      "text/html": [
       "<div>\n",
       "<style scoped>\n",
       "    .dataframe tbody tr th:only-of-type {\n",
       "        vertical-align: middle;\n",
       "    }\n",
       "\n",
       "    .dataframe tbody tr th {\n",
       "        vertical-align: top;\n",
       "    }\n",
       "\n",
       "    .dataframe thead th {\n",
       "        text-align: right;\n",
       "    }\n",
       "</style>\n",
       "<table border=\"1\" class=\"dataframe\">\n",
       "  <thead>\n",
       "    <tr style=\"text-align: right;\">\n",
       "      <th></th>\n",
       "      <th>trans_date_trans_time</th>\n",
       "      <th>cc_num</th>\n",
       "      <th>merchant</th>\n",
       "      <th>category</th>\n",
       "      <th>amt</th>\n",
       "      <th>first</th>\n",
       "      <th>last</th>\n",
       "      <th>gender</th>\n",
       "      <th>street</th>\n",
       "      <th>city</th>\n",
       "      <th>state</th>\n",
       "      <th>zip</th>\n",
       "      <th>lat</th>\n",
       "      <th>long</th>\n",
       "      <th>city_pop</th>\n",
       "      <th>job</th>\n",
       "      <th>dob</th>\n",
       "      <th>trans_num</th>\n",
       "      <th>unix_time</th>\n",
       "      <th>merch_lat</th>\n",
       "      <th>merch_long</th>\n",
       "      <th>is_fraud</th>\n",
       "    </tr>\n",
       "  </thead>\n",
       "  <tbody>\n",
       "    <tr>\n",
       "      <th>0</th>\n",
       "      <td>2019-01-01 00:00:18</td>\n",
       "      <td>2703186189652095</td>\n",
       "      <td>fraud_Rippin, Kub and Mann</td>\n",
       "      <td>misc_net</td>\n",
       "      <td>4.97</td>\n",
       "      <td>Jennifer</td>\n",
       "      <td>Banks</td>\n",
       "      <td>F</td>\n",
       "      <td>561 Perry Cove</td>\n",
       "      <td>Moravian Falls</td>\n",
       "      <td>NC</td>\n",
       "      <td>28654</td>\n",
       "      <td>36.0788</td>\n",
       "      <td>-81.1781</td>\n",
       "      <td>3495</td>\n",
       "      <td>Psychologist, counselling</td>\n",
       "      <td>1988-03-09</td>\n",
       "      <td>0b242abb623afc578575680df30655b9</td>\n",
       "      <td>1325376018</td>\n",
       "      <td>36.011293</td>\n",
       "      <td>-82.048315</td>\n",
       "      <td>0</td>\n",
       "    </tr>\n",
       "    <tr>\n",
       "      <th>1</th>\n",
       "      <td>2019-01-01 00:00:44</td>\n",
       "      <td>630423337322</td>\n",
       "      <td>fraud_Heller, Gutmann and Zieme</td>\n",
       "      <td>grocery_pos</td>\n",
       "      <td>107.23</td>\n",
       "      <td>Stephanie</td>\n",
       "      <td>Gill</td>\n",
       "      <td>F</td>\n",
       "      <td>43039 Riley Greens Suite 393</td>\n",
       "      <td>Orient</td>\n",
       "      <td>WA</td>\n",
       "      <td>99160</td>\n",
       "      <td>48.8878</td>\n",
       "      <td>-118.2105</td>\n",
       "      <td>149</td>\n",
       "      <td>Special educational needs teacher</td>\n",
       "      <td>1978-06-21</td>\n",
       "      <td>1f76529f8574734946361c461b024d99</td>\n",
       "      <td>1325376044</td>\n",
       "      <td>49.159047</td>\n",
       "      <td>-118.186462</td>\n",
       "      <td>0</td>\n",
       "    </tr>\n",
       "    <tr>\n",
       "      <th>2</th>\n",
       "      <td>2019-01-01 00:00:51</td>\n",
       "      <td>38859492057661</td>\n",
       "      <td>fraud_Lind-Buckridge</td>\n",
       "      <td>entertainment</td>\n",
       "      <td>220.11</td>\n",
       "      <td>Edward</td>\n",
       "      <td>Sanchez</td>\n",
       "      <td>M</td>\n",
       "      <td>594 White Dale Suite 530</td>\n",
       "      <td>Malad City</td>\n",
       "      <td>ID</td>\n",
       "      <td>83252</td>\n",
       "      <td>42.1808</td>\n",
       "      <td>-112.2620</td>\n",
       "      <td>4154</td>\n",
       "      <td>Nature conservation officer</td>\n",
       "      <td>1962-01-19</td>\n",
       "      <td>a1a22d70485983eac12b5b88dad1cf95</td>\n",
       "      <td>1325376051</td>\n",
       "      <td>43.150704</td>\n",
       "      <td>-112.154481</td>\n",
       "      <td>0</td>\n",
       "    </tr>\n",
       "    <tr>\n",
       "      <th>3</th>\n",
       "      <td>2019-01-01 00:01:16</td>\n",
       "      <td>3534093764340240</td>\n",
       "      <td>fraud_Kutch, Hermiston and Farrell</td>\n",
       "      <td>gas_transport</td>\n",
       "      <td>45.00</td>\n",
       "      <td>Jeremy</td>\n",
       "      <td>White</td>\n",
       "      <td>M</td>\n",
       "      <td>9443 Cynthia Court Apt. 038</td>\n",
       "      <td>Boulder</td>\n",
       "      <td>MT</td>\n",
       "      <td>59632</td>\n",
       "      <td>46.2306</td>\n",
       "      <td>-112.1138</td>\n",
       "      <td>1939</td>\n",
       "      <td>Patent attorney</td>\n",
       "      <td>1967-01-12</td>\n",
       "      <td>6b849c168bdad6f867558c3793159a81</td>\n",
       "      <td>1325376076</td>\n",
       "      <td>47.034331</td>\n",
       "      <td>-112.561071</td>\n",
       "      <td>0</td>\n",
       "    </tr>\n",
       "    <tr>\n",
       "      <th>4</th>\n",
       "      <td>2019-01-01 00:03:06</td>\n",
       "      <td>375534208663984</td>\n",
       "      <td>fraud_Keeling-Crist</td>\n",
       "      <td>misc_pos</td>\n",
       "      <td>41.96</td>\n",
       "      <td>Tyler</td>\n",
       "      <td>Garcia</td>\n",
       "      <td>M</td>\n",
       "      <td>408 Bradley Rest</td>\n",
       "      <td>Doe Hill</td>\n",
       "      <td>VA</td>\n",
       "      <td>24433</td>\n",
       "      <td>38.4207</td>\n",
       "      <td>-79.4629</td>\n",
       "      <td>99</td>\n",
       "      <td>Dance movement psychotherapist</td>\n",
       "      <td>1986-03-28</td>\n",
       "      <td>a41d7549acf90789359a9aa5346dcb46</td>\n",
       "      <td>1325376186</td>\n",
       "      <td>38.674999</td>\n",
       "      <td>-78.632459</td>\n",
       "      <td>0</td>\n",
       "    </tr>\n",
       "  </tbody>\n",
       "</table>\n",
       "</div>"
      ],
      "text/plain": [
       "  trans_date_trans_time            cc_num                            merchant  \\\n",
       "0   2019-01-01 00:00:18  2703186189652095          fraud_Rippin, Kub and Mann   \n",
       "1   2019-01-01 00:00:44      630423337322     fraud_Heller, Gutmann and Zieme   \n",
       "2   2019-01-01 00:00:51    38859492057661                fraud_Lind-Buckridge   \n",
       "3   2019-01-01 00:01:16  3534093764340240  fraud_Kutch, Hermiston and Farrell   \n",
       "4   2019-01-01 00:03:06   375534208663984                 fraud_Keeling-Crist   \n",
       "\n",
       "        category     amt      first     last gender  \\\n",
       "0       misc_net    4.97   Jennifer    Banks      F   \n",
       "1    grocery_pos  107.23  Stephanie     Gill      F   \n",
       "2  entertainment  220.11     Edward  Sanchez      M   \n",
       "3  gas_transport   45.00     Jeremy    White      M   \n",
       "4       misc_pos   41.96      Tyler   Garcia      M   \n",
       "\n",
       "                         street            city state    zip      lat  \\\n",
       "0                561 Perry Cove  Moravian Falls    NC  28654  36.0788   \n",
       "1  43039 Riley Greens Suite 393          Orient    WA  99160  48.8878   \n",
       "2      594 White Dale Suite 530      Malad City    ID  83252  42.1808   \n",
       "3   9443 Cynthia Court Apt. 038         Boulder    MT  59632  46.2306   \n",
       "4              408 Bradley Rest        Doe Hill    VA  24433  38.4207   \n",
       "\n",
       "       long  city_pop                                job        dob  \\\n",
       "0  -81.1781      3495          Psychologist, counselling 1988-03-09   \n",
       "1 -118.2105       149  Special educational needs teacher 1978-06-21   \n",
       "2 -112.2620      4154        Nature conservation officer 1962-01-19   \n",
       "3 -112.1138      1939                    Patent attorney 1967-01-12   \n",
       "4  -79.4629        99     Dance movement psychotherapist 1986-03-28   \n",
       "\n",
       "                          trans_num   unix_time  merch_lat  merch_long  \\\n",
       "0  0b242abb623afc578575680df30655b9  1325376018  36.011293  -82.048315   \n",
       "1  1f76529f8574734946361c461b024d99  1325376044  49.159047 -118.186462   \n",
       "2  a1a22d70485983eac12b5b88dad1cf95  1325376051  43.150704 -112.154481   \n",
       "3  6b849c168bdad6f867558c3793159a81  1325376076  47.034331 -112.561071   \n",
       "4  a41d7549acf90789359a9aa5346dcb46  1325376186  38.674999  -78.632459   \n",
       "\n",
       "   is_fraud  \n",
       "0         0  \n",
       "1         0  \n",
       "2         0  \n",
       "3         0  \n",
       "4         0  "
      ]
     },
     "execution_count": 7,
     "metadata": {},
     "output_type": "execute_result"
    }
   ],
   "source": [
    "DataFeed.head()"
   ]
  },
  {
   "cell_type": "code",
   "execution_count": null,
   "id": "46b5594e",
   "metadata": {},
   "outputs": [],
   "source": []
  },
  {
   "cell_type": "code",
   "execution_count": null,
   "id": "4214a541",
   "metadata": {},
   "outputs": [],
   "source": []
  },
  {
   "cell_type": "markdown",
   "id": "997db75e",
   "metadata": {},
   "source": [
    "# Adding Age Column in the data by take difference of year of birth from present year"
   ]
  },
  {
   "cell_type": "code",
   "execution_count": 8,
   "id": "3c58a4ba",
   "metadata": {},
   "outputs": [],
   "source": [
    "DataFeed['age'] = NumPy.rint((Pandas.to_datetime('now') - DataFeed['dob']) / NumPy.timedelta64(1, 'Y'))"
   ]
  },
  {
   "cell_type": "code",
   "execution_count": null,
   "id": "60ecf797",
   "metadata": {},
   "outputs": [],
   "source": []
  },
  {
   "cell_type": "code",
   "execution_count": null,
   "id": "a4a0de36",
   "metadata": {},
   "outputs": [],
   "source": []
  },
  {
   "cell_type": "markdown",
   "id": "b3a67b6f",
   "metadata": {},
   "source": [
    "# Show casing first five data entries as a sample of the dataset used post addition of age column in it"
   ]
  },
  {
   "cell_type": "code",
   "execution_count": 9,
   "id": "3209d44f",
   "metadata": {},
   "outputs": [
    {
     "data": {
      "text/html": [
       "<div>\n",
       "<style scoped>\n",
       "    .dataframe tbody tr th:only-of-type {\n",
       "        vertical-align: middle;\n",
       "    }\n",
       "\n",
       "    .dataframe tbody tr th {\n",
       "        vertical-align: top;\n",
       "    }\n",
       "\n",
       "    .dataframe thead th {\n",
       "        text-align: right;\n",
       "    }\n",
       "</style>\n",
       "<table border=\"1\" class=\"dataframe\">\n",
       "  <thead>\n",
       "    <tr style=\"text-align: right;\">\n",
       "      <th></th>\n",
       "      <th>trans_date_trans_time</th>\n",
       "      <th>cc_num</th>\n",
       "      <th>merchant</th>\n",
       "      <th>category</th>\n",
       "      <th>amt</th>\n",
       "      <th>first</th>\n",
       "      <th>last</th>\n",
       "      <th>gender</th>\n",
       "      <th>street</th>\n",
       "      <th>city</th>\n",
       "      <th>state</th>\n",
       "      <th>zip</th>\n",
       "      <th>lat</th>\n",
       "      <th>long</th>\n",
       "      <th>city_pop</th>\n",
       "      <th>job</th>\n",
       "      <th>dob</th>\n",
       "      <th>trans_num</th>\n",
       "      <th>unix_time</th>\n",
       "      <th>merch_lat</th>\n",
       "      <th>merch_long</th>\n",
       "      <th>is_fraud</th>\n",
       "      <th>age</th>\n",
       "    </tr>\n",
       "  </thead>\n",
       "  <tbody>\n",
       "    <tr>\n",
       "      <th>0</th>\n",
       "      <td>2019-01-01 00:00:18</td>\n",
       "      <td>2703186189652095</td>\n",
       "      <td>fraud_Rippin, Kub and Mann</td>\n",
       "      <td>misc_net</td>\n",
       "      <td>4.97</td>\n",
       "      <td>Jennifer</td>\n",
       "      <td>Banks</td>\n",
       "      <td>F</td>\n",
       "      <td>561 Perry Cove</td>\n",
       "      <td>Moravian Falls</td>\n",
       "      <td>NC</td>\n",
       "      <td>28654</td>\n",
       "      <td>36.0788</td>\n",
       "      <td>-81.1781</td>\n",
       "      <td>3495</td>\n",
       "      <td>Psychologist, counselling</td>\n",
       "      <td>1988-03-09</td>\n",
       "      <td>0b242abb623afc578575680df30655b9</td>\n",
       "      <td>1325376018</td>\n",
       "      <td>36.011293</td>\n",
       "      <td>-82.048315</td>\n",
       "      <td>0</td>\n",
       "      <td>34.0</td>\n",
       "    </tr>\n",
       "    <tr>\n",
       "      <th>1</th>\n",
       "      <td>2019-01-01 00:00:44</td>\n",
       "      <td>630423337322</td>\n",
       "      <td>fraud_Heller, Gutmann and Zieme</td>\n",
       "      <td>grocery_pos</td>\n",
       "      <td>107.23</td>\n",
       "      <td>Stephanie</td>\n",
       "      <td>Gill</td>\n",
       "      <td>F</td>\n",
       "      <td>43039 Riley Greens Suite 393</td>\n",
       "      <td>Orient</td>\n",
       "      <td>WA</td>\n",
       "      <td>99160</td>\n",
       "      <td>48.8878</td>\n",
       "      <td>-118.2105</td>\n",
       "      <td>149</td>\n",
       "      <td>Special educational needs teacher</td>\n",
       "      <td>1978-06-21</td>\n",
       "      <td>1f76529f8574734946361c461b024d99</td>\n",
       "      <td>1325376044</td>\n",
       "      <td>49.159047</td>\n",
       "      <td>-118.186462</td>\n",
       "      <td>0</td>\n",
       "      <td>43.0</td>\n",
       "    </tr>\n",
       "    <tr>\n",
       "      <th>2</th>\n",
       "      <td>2019-01-01 00:00:51</td>\n",
       "      <td>38859492057661</td>\n",
       "      <td>fraud_Lind-Buckridge</td>\n",
       "      <td>entertainment</td>\n",
       "      <td>220.11</td>\n",
       "      <td>Edward</td>\n",
       "      <td>Sanchez</td>\n",
       "      <td>M</td>\n",
       "      <td>594 White Dale Suite 530</td>\n",
       "      <td>Malad City</td>\n",
       "      <td>ID</td>\n",
       "      <td>83252</td>\n",
       "      <td>42.1808</td>\n",
       "      <td>-112.2620</td>\n",
       "      <td>4154</td>\n",
       "      <td>Nature conservation officer</td>\n",
       "      <td>1962-01-19</td>\n",
       "      <td>a1a22d70485983eac12b5b88dad1cf95</td>\n",
       "      <td>1325376051</td>\n",
       "      <td>43.150704</td>\n",
       "      <td>-112.154481</td>\n",
       "      <td>0</td>\n",
       "      <td>60.0</td>\n",
       "    </tr>\n",
       "    <tr>\n",
       "      <th>3</th>\n",
       "      <td>2019-01-01 00:01:16</td>\n",
       "      <td>3534093764340240</td>\n",
       "      <td>fraud_Kutch, Hermiston and Farrell</td>\n",
       "      <td>gas_transport</td>\n",
       "      <td>45.00</td>\n",
       "      <td>Jeremy</td>\n",
       "      <td>White</td>\n",
       "      <td>M</td>\n",
       "      <td>9443 Cynthia Court Apt. 038</td>\n",
       "      <td>Boulder</td>\n",
       "      <td>MT</td>\n",
       "      <td>59632</td>\n",
       "      <td>46.2306</td>\n",
       "      <td>-112.1138</td>\n",
       "      <td>1939</td>\n",
       "      <td>Patent attorney</td>\n",
       "      <td>1967-01-12</td>\n",
       "      <td>6b849c168bdad6f867558c3793159a81</td>\n",
       "      <td>1325376076</td>\n",
       "      <td>47.034331</td>\n",
       "      <td>-112.561071</td>\n",
       "      <td>0</td>\n",
       "      <td>55.0</td>\n",
       "    </tr>\n",
       "    <tr>\n",
       "      <th>4</th>\n",
       "      <td>2019-01-01 00:03:06</td>\n",
       "      <td>375534208663984</td>\n",
       "      <td>fraud_Keeling-Crist</td>\n",
       "      <td>misc_pos</td>\n",
       "      <td>41.96</td>\n",
       "      <td>Tyler</td>\n",
       "      <td>Garcia</td>\n",
       "      <td>M</td>\n",
       "      <td>408 Bradley Rest</td>\n",
       "      <td>Doe Hill</td>\n",
       "      <td>VA</td>\n",
       "      <td>24433</td>\n",
       "      <td>38.4207</td>\n",
       "      <td>-79.4629</td>\n",
       "      <td>99</td>\n",
       "      <td>Dance movement psychotherapist</td>\n",
       "      <td>1986-03-28</td>\n",
       "      <td>a41d7549acf90789359a9aa5346dcb46</td>\n",
       "      <td>1325376186</td>\n",
       "      <td>38.674999</td>\n",
       "      <td>-78.632459</td>\n",
       "      <td>0</td>\n",
       "      <td>36.0</td>\n",
       "    </tr>\n",
       "  </tbody>\n",
       "</table>\n",
       "</div>"
      ],
      "text/plain": [
       "  trans_date_trans_time            cc_num                            merchant  \\\n",
       "0   2019-01-01 00:00:18  2703186189652095          fraud_Rippin, Kub and Mann   \n",
       "1   2019-01-01 00:00:44      630423337322     fraud_Heller, Gutmann and Zieme   \n",
       "2   2019-01-01 00:00:51    38859492057661                fraud_Lind-Buckridge   \n",
       "3   2019-01-01 00:01:16  3534093764340240  fraud_Kutch, Hermiston and Farrell   \n",
       "4   2019-01-01 00:03:06   375534208663984                 fraud_Keeling-Crist   \n",
       "\n",
       "        category     amt      first     last gender  \\\n",
       "0       misc_net    4.97   Jennifer    Banks      F   \n",
       "1    grocery_pos  107.23  Stephanie     Gill      F   \n",
       "2  entertainment  220.11     Edward  Sanchez      M   \n",
       "3  gas_transport   45.00     Jeremy    White      M   \n",
       "4       misc_pos   41.96      Tyler   Garcia      M   \n",
       "\n",
       "                         street            city state    zip      lat  \\\n",
       "0                561 Perry Cove  Moravian Falls    NC  28654  36.0788   \n",
       "1  43039 Riley Greens Suite 393          Orient    WA  99160  48.8878   \n",
       "2      594 White Dale Suite 530      Malad City    ID  83252  42.1808   \n",
       "3   9443 Cynthia Court Apt. 038         Boulder    MT  59632  46.2306   \n",
       "4              408 Bradley Rest        Doe Hill    VA  24433  38.4207   \n",
       "\n",
       "       long  city_pop                                job        dob  \\\n",
       "0  -81.1781      3495          Psychologist, counselling 1988-03-09   \n",
       "1 -118.2105       149  Special educational needs teacher 1978-06-21   \n",
       "2 -112.2620      4154        Nature conservation officer 1962-01-19   \n",
       "3 -112.1138      1939                    Patent attorney 1967-01-12   \n",
       "4  -79.4629        99     Dance movement psychotherapist 1986-03-28   \n",
       "\n",
       "                          trans_num   unix_time  merch_lat  merch_long  \\\n",
       "0  0b242abb623afc578575680df30655b9  1325376018  36.011293  -82.048315   \n",
       "1  1f76529f8574734946361c461b024d99  1325376044  49.159047 -118.186462   \n",
       "2  a1a22d70485983eac12b5b88dad1cf95  1325376051  43.150704 -112.154481   \n",
       "3  6b849c168bdad6f867558c3793159a81  1325376076  47.034331 -112.561071   \n",
       "4  a41d7549acf90789359a9aa5346dcb46  1325376186  38.674999  -78.632459   \n",
       "\n",
       "   is_fraud   age  \n",
       "0         0  34.0  \n",
       "1         0  43.0  \n",
       "2         0  60.0  \n",
       "3         0  55.0  \n",
       "4         0  36.0  "
      ]
     },
     "execution_count": 9,
     "metadata": {},
     "output_type": "execute_result"
    }
   ],
   "source": [
    "DataFeed.head()"
   ]
  },
  {
   "cell_type": "code",
   "execution_count": null,
   "id": "f3e37149",
   "metadata": {},
   "outputs": [],
   "source": []
  },
  {
   "cell_type": "markdown",
   "id": "a6effc02",
   "metadata": {},
   "source": [
    "# Seaborn Pairplot of The Data"
   ]
  },
  {
   "cell_type": "code",
   "execution_count": 10,
   "id": "a7ee2c05",
   "metadata": {},
   "outputs": [
    {
     "data": {
      "text/plain": [
       "'SeaBorn.pairplot(DataFeed)'"
      ]
     },
     "execution_count": 10,
     "metadata": {},
     "output_type": "execute_result"
    }
   ],
   "source": [
    "'''SeaBorn.pairplot(DataFeed)'''"
   ]
  },
  {
   "cell_type": "code",
   "execution_count": null,
   "id": "5626f30f",
   "metadata": {},
   "outputs": [],
   "source": []
  },
  {
   "cell_type": "code",
   "execution_count": null,
   "id": "656aff12",
   "metadata": {},
   "outputs": [],
   "source": []
  },
  {
   "cell_type": "code",
   "execution_count": 11,
   "id": "1cd449b0",
   "metadata": {},
   "outputs": [],
   "source": [
    "def DataPreproccessing():\n",
    "    print(DataFeed.isnull().sum())\n",
    "    print(DataFeed.isnull().values.any())\n",
    "    "
   ]
  },
  {
   "cell_type": "code",
   "execution_count": 12,
   "id": "20aac026",
   "metadata": {},
   "outputs": [
    {
     "name": "stdout",
     "output_type": "stream",
     "text": [
      "trans_date_trans_time    0\n",
      "cc_num                   0\n",
      "merchant                 0\n",
      "category                 0\n",
      "amt                      0\n",
      "first                    0\n",
      "last                     0\n",
      "gender                   0\n",
      "street                   0\n",
      "city                     0\n",
      "state                    0\n",
      "zip                      0\n",
      "lat                      0\n",
      "long                     0\n",
      "city_pop                 0\n",
      "job                      0\n",
      "dob                      0\n",
      "trans_num                0\n",
      "unix_time                0\n",
      "merch_lat                0\n",
      "merch_long               0\n",
      "is_fraud                 0\n",
      "age                      0\n",
      "dtype: int64\n",
      "False\n"
     ]
    }
   ],
   "source": [
    "DataPreproccessing()"
   ]
  },
  {
   "cell_type": "code",
   "execution_count": null,
   "id": "8f1eb7d6",
   "metadata": {},
   "outputs": [],
   "source": []
  },
  {
   "cell_type": "code",
   "execution_count": null,
   "id": "9f387a25",
   "metadata": {},
   "outputs": [],
   "source": []
  },
  {
   "cell_type": "markdown",
   "id": "675b4f86",
   "metadata": {},
   "source": [
    "# Graphical Representation of Where how many authenticate and fraud transaction in various categories"
   ]
  },
  {
   "cell_type": "code",
   "execution_count": 13,
   "id": "5040ba80",
   "metadata": {},
   "outputs": [
    {
     "data": {
      "text/plain": [
       "<AxesSubplot:title={'center':'Number of frauds by categories'}, xlabel='category', ylabel='cc_num'>"
      ]
     },
     "execution_count": 13,
     "metadata": {},
     "output_type": "execute_result"
    },
    {
     "data": {
      "image/png": "[encoded data removed]",
      "text/plain": [
       "<Figure size 1440x576 with 1 Axes>"
      ]
     },
     "metadata": {
      "needs_background": "light"
     },
     "output_type": "display_data"
    }
   ],
   "source": [
    "PyPlot.figure(figsize=(20,8))\n",
    "PyPlot.title('Number of frauds by categories')\n",
    "SeaBorn.barplot(x=\"category\", y='cc_num' ,hue=\"is_fraud\", data=DataFeed.groupby(['category','is_fraud']).agg({'cc_num':'count'}).reset_index())"
   ]
  },
  {
   "cell_type": "code",
   "execution_count": null,
   "id": "d1a6ff97",
   "metadata": {},
   "outputs": [],
   "source": []
  },
  {
   "cell_type": "code",
   "execution_count": null,
   "id": "ee95d8b0",
   "metadata": {},
   "outputs": [],
   "source": []
  },
  {
   "cell_type": "markdown",
   "id": "dba364e4",
   "metadata": {},
   "source": [
    "# Graphical Bifaction of Data on the bases of being fraud transaction or authenticate to the avg amount spent on that transaction"
   ]
  },
  {
   "cell_type": "code",
   "execution_count": 14,
   "id": "37438351",
   "metadata": {},
   "outputs": [
    {
     "data": {
      "text/plain": [
       "<AxesSubplot:title={'center':'Number of frauds by the average amount of money spent'}, xlabel='is_fraud', ylabel='amt'>"
      ]
     },
     "execution_count": 14,
     "metadata": {},
     "output_type": "execute_result"
    },
    {
     "data": {
      "image/png": "[encoded data removed]",
      "text/plain": [
       "<Figure size 1440x576 with 1 Axes>"
      ]
     },
     "metadata": {
      "needs_background": "light"
     },
     "output_type": "display_data"
    }
   ],
   "source": [
    "PyPlot.figure(figsize=(20,8))\n",
    "PyPlot.title('Number of frauds by the average amount of money spent')\n",
    "SeaBorn.barplot(x=\"is_fraud\", y='amt', data=DataFeed)"
   ]
  },
  {
   "cell_type": "code",
   "execution_count": null,
   "id": "77661cc5",
   "metadata": {},
   "outputs": [],
   "source": []
  },
  {
   "cell_type": "code",
   "execution_count": null,
   "id": "cb9de704",
   "metadata": {},
   "outputs": [],
   "source": []
  },
  {
   "cell_type": "markdown",
   "id": "c6d33a55",
   "metadata": {},
   "source": [
    "# Describing the Features of the dataset which are gonna be used in the training of our deep learning and machine learning algorithms and making train variable "
   ]
  },
  {
   "cell_type": "code",
   "execution_count": 15,
   "id": "4222c708",
   "metadata": {},
   "outputs": [],
   "source": [
    "ColumnFeatures = ['category', 'amt', 'gender', 'lat', 'long', 'job', 'age','merch_lat', 'merch_long', 'is_fraud']\n",
    "X = DataFeed.copy()[ColumnFeatures]\n",
    "y = X.pop('is_fraud')"
   ]
  },
  {
   "cell_type": "code",
   "execution_count": null,
   "id": "f7a1b733",
   "metadata": {},
   "outputs": [],
   "source": []
  },
  {
   "cell_type": "code",
   "execution_count": null,
   "id": "cd851168",
   "metadata": {},
   "outputs": [],
   "source": []
  },
  {
   "cell_type": "markdown",
   "id": "b7373dd5",
   "metadata": {},
   "source": [
    "# Counting number of records in our dataset  By Number Of Being Fraud And Authenticatic"
   ]
  },
  {
   "cell_type": "code",
   "execution_count": 16,
   "id": "82025d04",
   "metadata": {},
   "outputs": [
    {
     "data": {
      "text/plain": [
       "0    1289169\n",
       "1       7506\n",
       "Name: is_fraud, dtype: int64"
      ]
     },
     "execution_count": 16,
     "metadata": {},
     "output_type": "execute_result"
    }
   ],
   "source": [
    "y.value_counts()"
   ]
  },
  {
   "cell_type": "code",
   "execution_count": null,
   "id": "09126d7e",
   "metadata": {},
   "outputs": [],
   "source": []
  },
  {
   "cell_type": "code",
   "execution_count": null,
   "id": "472a83c0",
   "metadata": {},
   "outputs": [],
   "source": []
  },
  {
   "cell_type": "markdown",
   "id": "0dadf30a",
   "metadata": {},
   "source": [
    "# Data Encoding Functions And Libraries for Encoding The Data "
   ]
  },
  {
   "cell_type": "code",
   "execution_count": 17,
   "id": "4f6450b6",
   "metadata": {},
   "outputs": [],
   "source": [
    "RareEncoder = RareLabelEncoder(tol=0.005, n_categories=1, variables=['category', 'gender','job'])\n",
    "EncodedData = RareEncoder.fit_transform(X)\n",
    "woe_encoder = WoEEncoder(variables=['category', 'gender','job'])\n",
    "woe_encoder.fit(EncodedData , y)\n",
    "def TransFormData(X):\n",
    "    EncodedData = RareEncoder.transform(X)\n",
    "    return woe_encoder.transform(EncodedData)"
   ]
  },
  {
   "cell_type": "code",
   "execution_count": null,
   "id": "ba221301",
   "metadata": {},
   "outputs": [],
   "source": []
  },
  {
   "cell_type": "code",
   "execution_count": null,
   "id": "653568be",
   "metadata": {},
   "outputs": [],
   "source": []
  },
  {
   "cell_type": "markdown",
   "id": "7051efd6",
   "metadata": {},
   "source": [
    "# Example Of How Data Is Gonna Be Encoded"
   ]
  },
  {
   "cell_type": "code",
   "execution_count": 18,
   "id": "3854c1da",
   "metadata": {},
   "outputs": [
    {
     "data": {
      "text/plain": [
       "{'category': {'entertainment': -0.8516286992560543,\n",
       "  'food_dining': -1.2586853497760662,\n",
       "  'gas_transport': -0.21072666983832336,\n",
       "  'grocery_net': -0.6775693805711962,\n",
       "  'grocery_pos': 0.8984981511385185,\n",
       "  'health_fitness': -1.3227451854687005,\n",
       "  'home': -1.2849471761148556,\n",
       "  'kids_pets': -1.0108222014735257,\n",
       "  'misc_net': 0.9241027325901408,\n",
       "  'misc_pos': -0.6148052966631049,\n",
       "  'personal_care': -0.8738469816900943,\n",
       "  'shopping_net': 1.1217208340057077,\n",
       "  'shopping_pos': 0.2231471164740934,\n",
       "  'travel': -0.7067216727288238},\n",
       " 'gender': {'F': -0.0959983025717894, 'M': 0.1051331115173589},\n",
       " 'job': {'Agricultural consultant': -0.3930992956626496,\n",
       "  'Chartered public finance accountant': -0.6897345182410528,\n",
       "  'Chief Executive Officer': -0.32650034347284274,\n",
       "  'Comptroller': -0.5739632665653881,\n",
       "  'Copywriter, advertising': 0.08472199460762161,\n",
       "  'Designer, ceramics/pottery': -1.3825164909327965,\n",
       "  'Environmental consultant': -0.6888932332393649,\n",
       "  'Exhibition designer': -0.04341451939895039,\n",
       "  'Film/video editor': -0.2532428808686433,\n",
       "  'Financial adviser': -0.6590845658970931,\n",
       "  'IT trainer': -0.42911469381471196,\n",
       "  'Magazine features editor': 0.04587914361228487,\n",
       "  'Materials engineer': 0.2603202206539364,\n",
       "  'Naval architect': 0.05322666435185989,\n",
       "  'Paramedic': -0.3541490461770893,\n",
       "  'Podiatrist': 0.0629810107827887,\n",
       "  'Rare': 0.03276710737594055,\n",
       "  'Scientist, audiological': -0.14361856257460007,\n",
       "  'Sub': -1.0228128894193245,\n",
       "  'Surveyor, land/geomatics': -0.004926375629932022,\n",
       "  'Systems developer': -1.2362861088681998}}"
      ]
     },
     "execution_count": 18,
     "metadata": {},
     "output_type": "execute_result"
    }
   ],
   "source": [
    "woe_encoder.encoder_dict_"
   ]
  },
  {
   "cell_type": "code",
   "execution_count": null,
   "id": "4671f188",
   "metadata": {},
   "outputs": [],
   "source": []
  },
  {
   "cell_type": "code",
   "execution_count": null,
   "id": "12e6eab2",
   "metadata": {},
   "outputs": [],
   "source": []
  },
  {
   "cell_type": "markdown",
   "id": "18174b17",
   "metadata": {},
   "source": [
    "# Passing Our Train Data To Make It Encoded"
   ]
  },
  {
   "cell_type": "code",
   "execution_count": 19,
   "id": "6980e368",
   "metadata": {},
   "outputs": [
    {
     "data": {
      "text/html": [
       "<div>\n",
       "<style scoped>\n",
       "    .dataframe tbody tr th:only-of-type {\n",
       "        vertical-align: middle;\n",
       "    }\n",
       "\n",
       "    .dataframe tbody tr th {\n",
       "        vertical-align: top;\n",
       "    }\n",
       "\n",
       "    .dataframe thead th {\n",
       "        text-align: right;\n",
       "    }\n",
       "</style>\n",
       "<table border=\"1\" class=\"dataframe\">\n",
       "  <thead>\n",
       "    <tr style=\"text-align: right;\">\n",
       "      <th></th>\n",
       "      <th>category</th>\n",
       "      <th>amt</th>\n",
       "      <th>gender</th>\n",
       "      <th>lat</th>\n",
       "      <th>long</th>\n",
       "      <th>job</th>\n",
       "      <th>age</th>\n",
       "      <th>merch_lat</th>\n",
       "      <th>merch_long</th>\n",
       "    </tr>\n",
       "  </thead>\n",
       "  <tbody>\n",
       "    <tr>\n",
       "      <th>0</th>\n",
       "      <td>0.924103</td>\n",
       "      <td>4.97</td>\n",
       "      <td>-0.095998</td>\n",
       "      <td>36.0788</td>\n",
       "      <td>-81.1781</td>\n",
       "      <td>0.032767</td>\n",
       "      <td>34.0</td>\n",
       "      <td>36.011293</td>\n",
       "      <td>-82.048315</td>\n",
       "    </tr>\n",
       "    <tr>\n",
       "      <th>1</th>\n",
       "      <td>0.898498</td>\n",
       "      <td>107.23</td>\n",
       "      <td>-0.095998</td>\n",
       "      <td>48.8878</td>\n",
       "      <td>-118.2105</td>\n",
       "      <td>0.032767</td>\n",
       "      <td>43.0</td>\n",
       "      <td>49.159047</td>\n",
       "      <td>-118.186462</td>\n",
       "    </tr>\n",
       "    <tr>\n",
       "      <th>2</th>\n",
       "      <td>-0.851629</td>\n",
       "      <td>220.11</td>\n",
       "      <td>0.105133</td>\n",
       "      <td>42.1808</td>\n",
       "      <td>-112.2620</td>\n",
       "      <td>0.032767</td>\n",
       "      <td>60.0</td>\n",
       "      <td>43.150704</td>\n",
       "      <td>-112.154481</td>\n",
       "    </tr>\n",
       "    <tr>\n",
       "      <th>3</th>\n",
       "      <td>-0.210727</td>\n",
       "      <td>45.00</td>\n",
       "      <td>0.105133</td>\n",
       "      <td>46.2306</td>\n",
       "      <td>-112.1138</td>\n",
       "      <td>0.032767</td>\n",
       "      <td>55.0</td>\n",
       "      <td>47.034331</td>\n",
       "      <td>-112.561071</td>\n",
       "    </tr>\n",
       "    <tr>\n",
       "      <th>4</th>\n",
       "      <td>-0.614805</td>\n",
       "      <td>41.96</td>\n",
       "      <td>0.105133</td>\n",
       "      <td>38.4207</td>\n",
       "      <td>-79.4629</td>\n",
       "      <td>0.032767</td>\n",
       "      <td>36.0</td>\n",
       "      <td>38.674999</td>\n",
       "      <td>-78.632459</td>\n",
       "    </tr>\n",
       "    <tr>\n",
       "      <th>...</th>\n",
       "      <td>...</td>\n",
       "      <td>...</td>\n",
       "      <td>...</td>\n",
       "      <td>...</td>\n",
       "      <td>...</td>\n",
       "      <td>...</td>\n",
       "      <td>...</td>\n",
       "      <td>...</td>\n",
       "      <td>...</td>\n",
       "    </tr>\n",
       "    <tr>\n",
       "      <th>1296670</th>\n",
       "      <td>-0.851629</td>\n",
       "      <td>15.56</td>\n",
       "      <td>0.105133</td>\n",
       "      <td>37.7175</td>\n",
       "      <td>-112.4777</td>\n",
       "      <td>0.032767</td>\n",
       "      <td>60.0</td>\n",
       "      <td>36.841266</td>\n",
       "      <td>-111.690765</td>\n",
       "    </tr>\n",
       "    <tr>\n",
       "      <th>1296671</th>\n",
       "      <td>-1.258685</td>\n",
       "      <td>51.70</td>\n",
       "      <td>0.105133</td>\n",
       "      <td>39.2667</td>\n",
       "      <td>-77.5101</td>\n",
       "      <td>0.032767</td>\n",
       "      <td>42.0</td>\n",
       "      <td>38.906881</td>\n",
       "      <td>-78.246528</td>\n",
       "    </tr>\n",
       "    <tr>\n",
       "      <th>1296672</th>\n",
       "      <td>-1.258685</td>\n",
       "      <td>105.93</td>\n",
       "      <td>0.105133</td>\n",
       "      <td>32.9396</td>\n",
       "      <td>-105.8189</td>\n",
       "      <td>0.053227</td>\n",
       "      <td>54.0</td>\n",
       "      <td>33.619513</td>\n",
       "      <td>-105.130529</td>\n",
       "    </tr>\n",
       "    <tr>\n",
       "      <th>1296673</th>\n",
       "      <td>-1.258685</td>\n",
       "      <td>74.90</td>\n",
       "      <td>0.105133</td>\n",
       "      <td>43.3526</td>\n",
       "      <td>-102.5411</td>\n",
       "      <td>0.032767</td>\n",
       "      <td>41.0</td>\n",
       "      <td>42.788940</td>\n",
       "      <td>-103.241160</td>\n",
       "    </tr>\n",
       "    <tr>\n",
       "      <th>1296674</th>\n",
       "      <td>-1.258685</td>\n",
       "      <td>4.30</td>\n",
       "      <td>0.105133</td>\n",
       "      <td>45.8433</td>\n",
       "      <td>-113.8748</td>\n",
       "      <td>0.032767</td>\n",
       "      <td>26.0</td>\n",
       "      <td>46.565983</td>\n",
       "      <td>-114.186110</td>\n",
       "    </tr>\n",
       "  </tbody>\n",
       "</table>\n",
       "<p>1296675 rows × 9 columns</p>\n",
       "</div>"
      ],
      "text/plain": [
       "         category     amt    gender      lat      long       job   age  \\\n",
       "0        0.924103    4.97 -0.095998  36.0788  -81.1781  0.032767  34.0   \n",
       "1        0.898498  107.23 -0.095998  48.8878 -118.2105  0.032767  43.0   \n",
       "2       -0.851629  220.11  0.105133  42.1808 -112.2620  0.032767  60.0   \n",
       "3       -0.210727   45.00  0.105133  46.2306 -112.1138  0.032767  55.0   \n",
       "4       -0.614805   41.96  0.105133  38.4207  -79.4629  0.032767  36.0   \n",
       "...           ...     ...       ...      ...       ...       ...   ...   \n",
       "1296670 -0.851629   15.56  0.105133  37.7175 -112.4777  0.032767  60.0   \n",
       "1296671 -1.258685   51.70  0.105133  39.2667  -77.5101  0.032767  42.0   \n",
       "1296672 -1.258685  105.93  0.105133  32.9396 -105.8189  0.053227  54.0   \n",
       "1296673 -1.258685   74.90  0.105133  43.3526 -102.5411  0.032767  41.0   \n",
       "1296674 -1.258685    4.30  0.105133  45.8433 -113.8748  0.032767  26.0   \n",
       "\n",
       "         merch_lat  merch_long  \n",
       "0        36.011293  -82.048315  \n",
       "1        49.159047 -118.186462  \n",
       "2        43.150704 -112.154481  \n",
       "3        47.034331 -112.561071  \n",
       "4        38.674999  -78.632459  \n",
       "...            ...         ...  \n",
       "1296670  36.841266 -111.690765  \n",
       "1296671  38.906881  -78.246528  \n",
       "1296672  33.619513 -105.130529  \n",
       "1296673  42.788940 -103.241160  \n",
       "1296674  46.565983 -114.186110  \n",
       "\n",
       "[1296675 rows x 9 columns]"
      ]
     },
     "execution_count": 19,
     "metadata": {},
     "output_type": "execute_result"
    }
   ],
   "source": [
    "TransFormData(X)"
   ]
  },
  {
   "cell_type": "code",
   "execution_count": null,
   "id": "2bbc2070",
   "metadata": {},
   "outputs": [],
   "source": []
  },
  {
   "cell_type": "code",
   "execution_count": null,
   "id": "03cf3234",
   "metadata": {},
   "outputs": [],
   "source": []
  },
  {
   "cell_type": "markdown",
   "id": "18673136",
   "metadata": {},
   "source": [
    "# Because there are not many records labeled 1, I will undersample to balance the data and reduce training time\n"
   ]
  },
  {
   "cell_type": "code",
   "execution_count": 20,
   "id": "bc9e6083",
   "metadata": {},
   "outputs": [],
   "source": [
    "RandomSampler = RandomUnderSampler(random_state=42)"
   ]
  },
  {
   "cell_type": "markdown",
   "id": "d9a0d530",
   "metadata": {},
   "source": [
    "# Taking Data For Testing "
   ]
  },
  {
   "cell_type": "code",
   "execution_count": 21,
   "id": "41ca54e0",
   "metadata": {},
   "outputs": [],
   "source": [
    "TestPath = 'DataSet/fraudTest.csv'\n",
    "DataFeed_test = Pandas.read_csv(TestPath, index_col=0, dtype=column_dtypes, parse_dates=['trans_date_trans_time', 'dob'])\n",
    "DataFeed_test['age'] = NumPy.rint((Pandas.to_datetime('now') - DataFeed['dob']) / NumPy.timedelta64(1, 'Y'))"
   ]
  },
  {
   "cell_type": "code",
   "execution_count": null,
   "id": "e0117afe",
   "metadata": {},
   "outputs": [],
   "source": []
  },
  {
   "cell_type": "code",
   "execution_count": null,
   "id": "ddf860f1",
   "metadata": {},
   "outputs": [],
   "source": []
  },
  {
   "cell_type": "markdown",
   "id": "96c57cc3",
   "metadata": {},
   "source": [
    "# Data For Testing Data"
   ]
  },
  {
   "cell_type": "code",
   "execution_count": 22,
   "id": "9ae1782a",
   "metadata": {},
   "outputs": [],
   "source": [
    "TestData = DataFeed_test.copy()[ColumnFeatures]\n",
    "y_test = TestData.pop('is_fraud')\n",
    "TestData = TransFormData(TestData)"
   ]
  },
  {
   "cell_type": "code",
   "execution_count": null,
   "id": "4a7ce711",
   "metadata": {},
   "outputs": [],
   "source": []
  },
  {
   "cell_type": "code",
   "execution_count": null,
   "id": "2088ebb4",
   "metadata": {},
   "outputs": [],
   "source": []
  },
  {
   "cell_type": "markdown",
   "id": "723afbce",
   "metadata": {},
   "source": [
    "# Balancing Train And Test Data To Reduce Training And Testing Of Models By A Great Extent"
   ]
  },
  {
   "cell_type": "code",
   "execution_count": 23,
   "id": "d1a65f5c",
   "metadata": {},
   "outputs": [],
   "source": [
    "TrainDataSet, Y_Train_Data = RandomSampler.fit_resample(TransFormData(X), y)\n",
    "TestDataFinal, Y_Test_Data = RandomSampler.fit_resample(TestData, y_test)"
   ]
  },
  {
   "cell_type": "code",
   "execution_count": null,
   "id": "6b7ffbf8",
   "metadata": {},
   "outputs": [],
   "source": []
  },
  {
   "cell_type": "code",
   "execution_count": null,
   "id": "5ffa24ca",
   "metadata": {},
   "outputs": [],
   "source": []
  },
  {
   "cell_type": "code",
   "execution_count": 24,
   "id": "494fdae1",
   "metadata": {},
   "outputs": [],
   "source": [
    "def plot_confusion(y_test, y_pred):\n",
    "  display_labels = ['Genuine', 'Fraudulent']\n",
    "  cm = confusion_matrix(y_test, y_pred, normalize='true')\n",
    "  disp = ConfusionMatrixDisplay(confusion_matrix=cm,\n",
    "                              display_labels=display_labels)\n",
    "  disp = disp.plot(cmap='Blues', xticks_rotation=30)\n",
    "  PyPlot.show()"
   ]
  },
  {
   "cell_type": "markdown",
   "id": "cbe7c4f9",
   "metadata": {},
   "source": [
    "# Variables For Storing And Exporting Results Of Data"
   ]
  },
  {
   "cell_type": "code",
   "execution_count": 25,
   "id": "e656e06d",
   "metadata": {},
   "outputs": [],
   "source": [
    "ClassificationReport=[]\n",
    "AccuracyScoreList=[]\n",
    "PrecisionScoreList=[]\n",
    "F1ScoreList=[]\n",
    "RecallScoreList=[]"
   ]
  },
  {
   "cell_type": "code",
   "execution_count": null,
   "id": "87a55ba6",
   "metadata": {},
   "outputs": [],
   "source": []
  },
  {
   "cell_type": "code",
   "execution_count": null,
   "id": "0928f5e6",
   "metadata": {},
   "outputs": [],
   "source": []
  },
  {
   "cell_type": "markdown",
   "id": "f4d9ad85",
   "metadata": {},
   "source": [
    "\n",
    "# Training Of Various Supervised Machine Learning And Deep Learning Algorithm\n"
   ]
  },
  {
   "cell_type": "code",
   "execution_count": null,
   "id": "6d7c8db6",
   "metadata": {},
   "outputs": [],
   "source": []
  },
  {
   "cell_type": "code",
   "execution_count": null,
   "id": "c418e7bb",
   "metadata": {},
   "outputs": [],
   "source": []
  },
  {
   "cell_type": "markdown",
   "id": "34a1aff0",
   "metadata": {},
   "source": [
    "# 1. Random Forest Tree Algorithm"
   ]
  },
  {
   "cell_type": "code",
   "execution_count": 26,
   "id": "dead7d42",
   "metadata": {},
   "outputs": [],
   "source": [
    "def RandomForestFunction():\n",
    "    parameters = {'max_depth': [3, 5, 10],'min_samples_split': [2, 5, 10]}\n",
    "    RandomForestModel = RandomForestClassifier()\n",
    "    Classifier = GridSearchCV(RandomForestModel, parameters,scoring='accuracy',cv=5)\n",
    "    Classifier.fit(TrainDataSet, Y_Train_Data)\n",
    "    ModelPrediction = Classifier.predict(TestDataFinal)\n",
    "    print('Classification Report of Random Forest Tree Algorithm')\n",
    "    print(classification_report(Y_Test_Data, ModelPrediction))\n",
    "    ClassificationReport.append(classification_report(Y_Test_Data, ModelPrediction))\n",
    "    print('\\n\\nAccuracy score of the Random Forest Tree model is = ',accuracy_score(Y_Test_Data, ModelPrediction))\n",
    "    AccuracyScoreList.append(accuracy_score(Y_Test_Data, ModelPrediction))\n",
    "    PrecisionScoreList.append(precision_score(Y_Test_Data, ModelPrediction))\n",
    "    F1ScoreList.append(f1_score(Y_Test_Data, ModelPrediction))\n",
    "    print('\\n\\nConfusion Matrix Of Random Forest Tree Model')\n",
    "    plot_confusion(Y_Test_Data,ModelPrediction)\n",
    "    RecallScoreList.append(recall_score(Y_Test_Data, ModelPrediction, average='macro'))\n",
    "\n",
    "    \n",
    "    #ROC Curve \n",
    "    ModelPrediction_Probability = Classifier.predict_proba(TestDataFinal)[::,1]\n",
    "    fpr, tpr, _ = metrics.roc_curve(Y_Test_Data,  ModelPrediction_Probability)\n",
    "    roc_auc = metrics.auc(fpr, tpr)\n",
    "    PyPlot.figure()\n",
    "    lw = 2\n",
    "    PyPlot.plot(\n",
    "        fpr,\n",
    "        tpr,\n",
    "        color=\"darkorange\",\n",
    "        lw=lw,\n",
    "        label=\"ROC curve (area = %0.2f)\" % roc_auc,\n",
    "    )\n",
    "    PyPlot.plot([0, 1], [0, 1], color=\"navy\", lw=lw, linestyle=\"--\")\n",
    "    PyPlot.xlabel(\"False Positive Rate\")\n",
    "    PyPlot.ylabel(\"True Positive Rate\")\n",
    "    PyPlot.title(\"ROC Curve\")\n",
    "    PyPlot.legend(loc=\"lower right\")\n",
    "    PyPlot.show()"
   ]
  },
  {
   "cell_type": "code",
   "execution_count": 27,
   "id": "0f1c66c6",
   "metadata": {},
   "outputs": [
    {
     "name": "stdout",
     "output_type": "stream",
     "text": [
      "Classification Report of Random Forest Tree Algorithm\n",
      "              precision    recall  f1-score   support\n",
      "\n",
      "           0       0.91      0.95      0.93      2145\n",
      "           1       0.95      0.91      0.93      2145\n",
      "\n",
      "    accuracy                           0.93      4290\n",
      "   macro avg       0.93      0.93      0.93      4290\n",
      "weighted avg       0.93      0.93      0.93      4290\n",
      "\n",
      "\n",
      "\n",
      "Accuracy score of the Random Forest Tree model is =  0.9328671328671329\n",
      "\n",
      "\n",
      "Confusion Matrix Of Random Forest Tree Model\n"
     ]
    },
    {
     "data": {
      "image/png": "[encoded data removed]",
      "text/plain": [
       "<Figure size 432x288 with 2 Axes>"
      ]
     },
     "metadata": {
      "needs_background": "light"
     },
     "output_type": "display_data"
    },
    {
     "data": {
      "image/png": "[encoded data removed]",
      "text/plain": [
       "<Figure size 432x288 with 1 Axes>"
      ]
     },
     "metadata": {
      "needs_background": "light"
     },
     "output_type": "display_data"
    }
   ],
   "source": [
    "RandomForestFunction()"
   ]
  },
  {
   "cell_type": "code",
   "execution_count": null,
   "id": "486fdd85",
   "metadata": {},
   "outputs": [],
   "source": []
  },
  {
   "cell_type": "code",
   "execution_count": null,
   "id": "0752fa93",
   "metadata": {},
   "outputs": [],
   "source": []
  },
  {
   "cell_type": "markdown",
   "id": "0a56650c",
   "metadata": {},
   "source": [
    "# 2. Sample Vector Machine Algorithm"
   ]
  },
  {
   "cell_type": "code",
   "execution_count": 28,
   "id": "836ed002",
   "metadata": {},
   "outputs": [],
   "source": [
    "def SampleVectorModelFunction():\n",
    "    SampleVectorMachineModel = SVC(probability=True)\n",
    "    SampleVectorMachineModel.fit(TrainDataSet, Y_Train_Data)\n",
    "    SampleVectorMachineModelPrediction = SampleVectorMachineModel.predict(TestDataFinal)\n",
    "    print('Classification Report of Sample Vector Machine Algorithm')\n",
    "    print(classification_report(Y_Test_Data, SampleVectorMachineModelPrediction))\n",
    "    ClassificationReport.append(classification_report(Y_Test_Data, SampleVectorMachineModelPrediction))\n",
    "    print('\\n\\nAccuracy score of the Sample Vector Machine model is = ',accuracy_score(Y_Test_Data, SampleVectorMachineModelPrediction))\n",
    "    AccuracyScoreList.append(accuracy_score(Y_Test_Data, SampleVectorMachineModelPrediction))\n",
    "    PrecisionScoreList.append(precision_score(Y_Test_Data, SampleVectorMachineModelPrediction))\n",
    "    F1ScoreList.append(f1_score(Y_Test_Data, SampleVectorMachineModelPrediction))\n",
    "    print('\\n\\nConfusion Matrix Of Sample Vector Machine Model')\n",
    "    plot_confusion(Y_Test_Data,SampleVectorMachineModelPrediction)\n",
    "    RecallScoreList.append(recall_score(Y_Test_Data, SampleVectorMachineModelPrediction, average='macro'))\n",
    "\n",
    "    #ROC Curve \n",
    "    ModelPredictioNumPyrobability = SampleVectorMachineModel.predict_proba(TestDataFinal)[::,1]\n",
    "    fpr, tpr, _ = metrics.roc_curve(Y_Test_Data,  ModelPredictioNumPyrobability)\n",
    "    roc_auc = metrics.auc(fpr, tpr)\n",
    "    PyPlot.figure()\n",
    "    lw = 2\n",
    "    PyPlot.plot(\n",
    "        fpr,\n",
    "        tpr,\n",
    "        color=\"darkorange\",\n",
    "        lw=lw,\n",
    "        label=\"ROC curve (area = %0.2f)\" % roc_auc,\n",
    "    )\n",
    "    PyPlot.plot([0, 1], [0, 1], color=\"navy\", lw=lw, linestyle=\"--\")\n",
    "    PyPlot.xlabel(\"False Positive Rate\")\n",
    "    PyPlot.ylabel(\"True Positive Rate\")\n",
    "    PyPlot.title(\"Receiver operating characteristic Curve\")\n",
    "    PyPlot.legend(loc=\"lower right\")\n",
    "    PyPlot.show()"
   ]
  },
  {
   "cell_type": "code",
   "execution_count": 29,
   "id": "d031bb13",
   "metadata": {},
   "outputs": [
    {
     "name": "stdout",
     "output_type": "stream",
     "text": [
      "Classification Report of Sample Vector Machine Algorithm\n",
      "              precision    recall  f1-score   support\n",
      "\n",
      "           0       0.79      0.97      0.87      2145\n",
      "           1       0.96      0.75      0.84      2145\n",
      "\n",
      "    accuracy                           0.86      4290\n",
      "   macro avg       0.88      0.86      0.86      4290\n",
      "weighted avg       0.88      0.86      0.86      4290\n",
      "\n",
      "\n",
      "\n",
      "Accuracy score of the Sample Vector Machine model is =  0.8589743589743589\n",
      "\n",
      "\n",
      "Confusion Matrix Of Sample Vector Machine Model\n"
     ]
    },
    {
     "data": {
      "image/png": "[encoded data removed]",
      "text/plain": [
       "<Figure size 432x288 with 2 Axes>"
      ]
     },
     "metadata": {
      "needs_background": "light"
     },
     "output_type": "display_data"
    },
    {
     "data": {
      "image/png": "[encoded data removed]",
      "text/plain": [
       "<Figure size 432x288 with 1 Axes>"
      ]
     },
     "metadata": {
      "needs_background": "light"
     },
     "output_type": "display_data"
    }
   ],
   "source": [
    "SampleVectorModelFunction()"
   ]
  },
  {
   "cell_type": "code",
   "execution_count": null,
   "id": "82845b23",
   "metadata": {},
   "outputs": [],
   "source": []
  },
  {
   "cell_type": "code",
   "execution_count": null,
   "id": "114d7487",
   "metadata": {},
   "outputs": [],
   "source": []
  },
  {
   "cell_type": "markdown",
   "id": "8c22aa57",
   "metadata": {},
   "source": [
    "# 3. Decision Tree Model"
   ]
  },
  {
   "cell_type": "code",
   "execution_count": 30,
   "id": "c550b450",
   "metadata": {},
   "outputs": [],
   "source": [
    "def DecisionTreeModelFunction():\n",
    "    DecisionTreeModel = DecisionTreeClassifier(max_depth = 4, criterion = 'entropy')\n",
    "    DecisionTreeModel.fit(TrainDataSet, Y_Train_Data)\n",
    "    DecisionTreeModelPrediction = DecisionTreeModel.predict(TestDataFinal)\n",
    "    print('Classification Report of Decision Tree Model ')\n",
    "    print(classification_report(Y_Test_Data, DecisionTreeModelPrediction))\n",
    "    ClassificationReport.append(classification_report(Y_Test_Data, DecisionTreeModelPrediction))\n",
    "    print('\\n\\nAccuracy score of the Decision Tree model is = ',accuracy_score(Y_Test_Data, DecisionTreeModelPrediction))\n",
    "    print('\\n\\nConfusion Matrix Of Decision Tree Model')\n",
    "    plot_confusion(Y_Test_Data, DecisionTreeModelPrediction)\n",
    "  \n",
    "    \n",
    "    AccuracyScoreList.append(accuracy_score(Y_Test_Data, DecisionTreeModelPrediction))\n",
    "    PrecisionScoreList.append(precision_score(Y_Test_Data, DecisionTreeModelPrediction))\n",
    "    F1ScoreList.append(f1_score(Y_Test_Data, DecisionTreeModelPrediction))\n",
    "    RecallScoreList.append(recall_score(Y_Test_Data, DecisionTreeModelPrediction, average='macro'))\n",
    "\n",
    "    #ROC Curve For This Model\n",
    "    ModelPrediction_Probability = DecisionTreeModel.predict_proba(TestDataFinal)[::,1]\n",
    "    fpr, tpr, _ = metrics.roc_curve(Y_Test_Data,  ModelPrediction_Probability)\n",
    "    roc_auc = metrics.auc(fpr, tpr)\n",
    "    PyPlot.figure()\n",
    "    lw = 2\n",
    "    PyPlot.plot(\n",
    "        fpr,\n",
    "        tpr,\n",
    "        color=\"darkorange\",\n",
    "        lw=lw,\n",
    "        label=\"ROC curve (area = %0.2f)\" % roc_auc,\n",
    "    )\n",
    "    PyPlot.plot([0, 1], [0, 1], color=\"navy\", lw=lw, linestyle=\"--\")\n",
    "    PyPlot.xlabel(\"False Positive Rate\")\n",
    "    PyPlot.ylabel(\"True Positive Rate\")\n",
    "    PyPlot.title(\"Receiver operating characteristic Curve\")\n",
    "    PyPlot.legend(loc=\"lower right\")\n",
    "    PyPlot.show()\n"
   ]
  },
  {
   "cell_type": "code",
   "execution_count": 31,
   "id": "3d84804e",
   "metadata": {},
   "outputs": [
    {
     "name": "stdout",
     "output_type": "stream",
     "text": [
      "Classification Report of Decision Tree Model \n",
      "              precision    recall  f1-score   support\n",
      "\n",
      "           0       0.84      0.99      0.91      2145\n",
      "           1       0.98      0.81      0.89      2145\n",
      "\n",
      "    accuracy                           0.90      4290\n",
      "   macro avg       0.91      0.90      0.90      4290\n",
      "weighted avg       0.91      0.90      0.90      4290\n",
      "\n",
      "\n",
      "\n",
      "Accuracy score of the Decision Tree model is =  0.8988344988344988\n",
      "\n",
      "\n",
      "Confusion Matrix Of Decision Tree Model\n"
     ]
    },
    {
     "data": {
      "image/png": "[encoded data removed]",
      "text/plain": [
       "<Figure size 432x288 with 2 Axes>"
      ]
     },
     "metadata": {
      "needs_background": "light"
     },
     "output_type": "display_data"
    },
    {
     "data": {
      "image/png": "[encoded data removed]",
      "text/plain": [
       "<Figure size 432x288 with 1 Axes>"
      ]
     },
     "metadata": {
      "needs_background": "light"
     },
     "output_type": "display_data"
    }
   ],
   "source": [
    "DecisionTreeModelFunction()"
   ]
  },
  {
   "cell_type": "code",
   "execution_count": null,
   "id": "bf3959c2",
   "metadata": {},
   "outputs": [],
   "source": []
  },
  {
   "cell_type": "code",
   "execution_count": null,
   "id": "521be64c",
   "metadata": {},
   "outputs": [],
   "source": []
  },
  {
   "cell_type": "markdown",
   "id": "c9e6bcde",
   "metadata": {},
   "source": [
    "# 4. Kth Nearest Neighbour Model"
   ]
  },
  {
   "cell_type": "code",
   "execution_count": 32,
   "id": "2e39ffde",
   "metadata": {},
   "outputs": [],
   "source": [
    "def KNearestNeighbourModelFunction():\n",
    "    n = 5\n",
    "    KNeighbourModel = KNeighborsClassifier(n_neighbors = n)\n",
    "    KNeighbourModel.fit(TrainDataSet, Y_Train_Data)\n",
    "    KNeighbourModelPrediction = KNeighbourModel.predict(TestDataFinal)\n",
    "    print('Classification Report of Kth Nearest Neighbour Model')\n",
    "    print(classification_report(Y_Test_Data, KNeighbourModelPrediction))\n",
    "    ClassificationReport.append(classification_report(Y_Test_Data, KNeighbourModelPrediction))\n",
    "    print('\\n\\nAccuracy score of the Kth Nearest Neighbour model is = ',accuracy_score(Y_Test_Data, KNeighbourModelPrediction))\n",
    "    AccuracyScoreList.append(accuracy_score(Y_Test_Data, KNeighbourModelPrediction))\n",
    "    PrecisionScoreList.append(precision_score(Y_Test_Data, KNeighbourModelPrediction))\n",
    "    F1ScoreList.append(f1_score(Y_Test_Data, KNeighbourModelPrediction))\n",
    "    print('\\n\\nConfusion Matrix Of Kth Nearest Neighbour Model')\n",
    "    plot_confusion(Y_Test_Data,KNeighbourModelPrediction)\n",
    "    RecallScoreList.append(recall_score(Y_Test_Data, KNeighbourModelPrediction, average='macro'))\n",
    "        #ROC Curve\n",
    "    ModelPrediction_Probability = KNeighbourModel.predict_proba(TestDataFinal)[::,1]\n",
    "    fpr, tpr, _ = metrics.roc_curve(Y_Test_Data,  ModelPrediction_Probability)\n",
    "    roc_auc = metrics.auc(fpr, tpr)\n",
    "    PyPlot.figure()\n",
    "    lw = 2\n",
    "    PyPlot.plot(\n",
    "        fpr,\n",
    "        tpr,\n",
    "        color=\"darkorange\",\n",
    "        lw=lw,\n",
    "        label=\"ROC curve (area = %0.2f)\" % roc_auc,\n",
    "    )\n",
    "    PyPlot.plot([0, 1], [0, 1], color=\"navy\", lw=lw, linestyle=\"--\")\n",
    "    PyPlot.xlabel(\"False Positive Rate\")\n",
    "    PyPlot.ylabel(\"True Positive Rate\")\n",
    "    PyPlot.title(\"Receiver operating characteristic Curve\")\n",
    "    PyPlot.legend(loc=\"lower right\")\n",
    "    PyPlot.show()"
   ]
  },
  {
   "cell_type": "code",
   "execution_count": 33,
   "id": "28fe16e9",
   "metadata": {},
   "outputs": [
    {
     "name": "stdout",
     "output_type": "stream",
     "text": [
      "Classification Report of Kth Nearest Neighbour Model\n",
      "              precision    recall  f1-score   support\n",
      "\n",
      "           0       0.85      0.86      0.86      2145\n",
      "           1       0.86      0.85      0.86      2145\n",
      "\n",
      "    accuracy                           0.86      4290\n",
      "   macro avg       0.86      0.86      0.86      4290\n",
      "weighted avg       0.86      0.86      0.86      4290\n",
      "\n",
      "\n",
      "\n",
      "Accuracy score of the Kth Nearest Neighbour model is =  0.8566433566433567\n",
      "\n",
      "\n",
      "Confusion Matrix Of Kth Nearest Neighbour Model\n"
     ]
    },
    {
     "data": {
      "image/png": "[encoded data removed]",
      "text/plain": [
       "<Figure size 432x288 with 2 Axes>"
      ]
     },
     "metadata": {
      "needs_background": "light"
     },
     "output_type": "display_data"
    },
    {
     "data": {
      "image/png": "[encoded data removed]",
      "text/plain": [
       "<Figure size 432x288 with 1 Axes>"
      ]
     },
     "metadata": {
      "needs_background": "light"
     },
     "output_type": "display_data"
    }
   ],
   "source": [
    "KNearestNeighbourModelFunction()"
   ]
  },
  {
   "cell_type": "code",
   "execution_count": null,
   "id": "dc8df82f",
   "metadata": {},
   "outputs": [],
   "source": []
  },
  {
   "cell_type": "code",
   "execution_count": null,
   "id": "89007f42",
   "metadata": {},
   "outputs": [],
   "source": []
  },
  {
   "cell_type": "markdown",
   "id": "c77968d2",
   "metadata": {},
   "source": [
    "# 5. Logistic Regression"
   ]
  },
  {
   "cell_type": "code",
   "execution_count": 34,
   "id": "0146006c",
   "metadata": {},
   "outputs": [],
   "source": [
    "def LogisticRegressionModelFunction():\n",
    "    LogisticRegressionModel = LogisticRegression(solver='lbfgs', max_iter=1000)\n",
    "    LogisticRegressionModel.fit(TrainDataSet, Y_Train_Data)\n",
    "    LogisticRegressionModelPrediction = LogisticRegressionModel.predict(TestDataFinal)\n",
    "    print('Classifaction Report Of Logistic Regression ')\n",
    "    print(classification_report(Y_Test_Data, LogisticRegressionModelPrediction))\n",
    "    ClassificationReport.append(classification_report(Y_Test_Data, LogisticRegressionModelPrediction))\n",
    "    print('\\n\\nAccuracy score of the Logistic Regression model is = ',accuracy_score(Y_Test_Data, LogisticRegressionModelPrediction))\n",
    "    AccuracyScoreList.append(accuracy_score(Y_Test_Data, LogisticRegressionModelPrediction))    \n",
    "    PrecisionScoreList.append(precision_score(Y_Test_Data, LogisticRegressionModelPrediction))\n",
    "    F1ScoreList.append(f1_score(Y_Test_Data, LogisticRegressionModelPrediction))\n",
    "    print('\\n\\nConfusion Matrix Of Logistic Regression Model')\n",
    "    plot_confusion(Y_Test_Data,LogisticRegressionModelPrediction)\n",
    "    RecallScoreList.append(recall_score(Y_Test_Data, LogisticRegressionModelPrediction, average='macro'))\n",
    "\n",
    "    #ROC Curve\n",
    "    ModelPrediction_Probability = LogisticRegressionModel.predict_proba(TestDataFinal)[::,1]\n",
    "    fpr, tpr, _ = metrics.roc_curve(Y_Test_Data,  ModelPrediction_Probability)\n",
    "    roc_auc = metrics.auc(fpr, tpr)\n",
    "    PyPlot.figure()\n",
    "    lw = 2\n",
    "    PyPlot.plot(\n",
    "        fpr,\n",
    "        tpr,\n",
    "        color=\"darkorange\",\n",
    "        lw=lw,\n",
    "        label=\"ROC curve (area = %0.2f)\" % roc_auc,\n",
    "    )\n",
    "    PyPlot.plot([0, 1], [0, 1], color=\"navy\", lw=lw, linestyle=\"--\")\n",
    "    PyPlot.xlabel(\"False Positive Rate\")\n",
    "    PyPlot.ylabel(\"True Positive Rate\")\n",
    "    PyPlot.title(\"Receiver operating characteristic Curve\")\n",
    "    PyPlot.legend(loc=\"lower right\")\n",
    "    PyPlot.show()"
   ]
  },
  {
   "cell_type": "code",
   "execution_count": 35,
   "id": "5a6b75c5",
   "metadata": {},
   "outputs": [
    {
     "name": "stdout",
     "output_type": "stream",
     "text": [
      "Classifaction Report Of Logistic Regression \n",
      "              precision    recall  f1-score   support\n",
      "\n",
      "           0       0.79      0.96      0.87      2145\n",
      "           1       0.95      0.74      0.83      2145\n",
      "\n",
      "    accuracy                           0.85      4290\n",
      "   macro avg       0.87      0.85      0.85      4290\n",
      "weighted avg       0.87      0.85      0.85      4290\n",
      "\n",
      "\n",
      "\n",
      "Accuracy score of the Logistic Regression model is =  0.8508158508158508\n",
      "\n",
      "\n",
      "Confusion Matrix Of Logistic Regression Model\n"
     ]
    },
    {
     "data": {
      "image/png": "[encoded data removed]",
      "text/plain": [
       "<Figure size 432x288 with 2 Axes>"
      ]
     },
     "metadata": {
      "needs_background": "light"
     },
     "output_type": "display_data"
    },
    {
     "data": {
      "image/png": "[encoded data removed]",
      "text/plain": [
       "<Figure size 432x288 with 1 Axes>"
      ]
     },
     "metadata": {
      "needs_background": "light"
     },
     "output_type": "display_data"
    }
   ],
   "source": [
    "LogisticRegressionModelFunction()"
   ]
  },
  {
   "cell_type": "code",
   "execution_count": null,
   "id": "78496df2",
   "metadata": {},
   "outputs": [],
   "source": []
  },
  {
   "cell_type": "code",
   "execution_count": null,
   "id": "7f658002",
   "metadata": {},
   "outputs": [],
   "source": []
  },
  {
   "cell_type": "code",
   "execution_count": 36,
   "id": "2e1e1c5c",
   "metadata": {},
   "outputs": [],
   "source": [
    "def NeuralNetworks():\n",
    "    MLPC = MLPClassifier(hidden_layer_sizes=(5000,), max_iter=50000)\n",
    "    MLPC.fit(TrainDataSet, Y_Train_Data)\n",
    "    NeuralNetworkPrediction = MLPC.predict(TestDataFinal)\n",
    "    # Obtenemos valores de recall\n",
    "    recall_acc = recall_score (Y_Test_Data,NeuralNetworkPrediction)\n",
    "    print('Classifaction Report Of Neural Network ')\n",
    "    print(classification_report(Y_Test_Data, NeuralNetworkPrediction))\n",
    "    ClassificationReport.append(classification_report(Y_Test_Data, NeuralNetworkPrediction))\n",
    "    print('\\n\\nAccuracy score of the Neural Network model is = ',accuracy_score(Y_Test_Data, NeuralNetworkPrediction))\n",
    "    AccuracyScoreList.append(accuracy_score(Y_Test_Data, NeuralNetworkPrediction))    \n",
    "    PrecisionScoreList.append(precision_score(Y_Test_Data, NeuralNetworkPrediction))\n",
    "    F1ScoreList.append(f1_score(Y_Test_Data, NeuralNetworkPrediction))\n",
    "    print('\\n\\nConfusion Matrix Of Neural Network Model')\n",
    "    plot_confusion(Y_Test_Data,NeuralNetworkPrediction)\n",
    "    RecallScoreList.append(recall_score(Y_Test_Data, NeuralNetworkPrediction, average='macro'))\n",
    "\n",
    "    #ROC Curve\n",
    "    ModelPrediction_Probability = MLPC.predict_proba(TestDataFinal)[::,1]\n",
    "    fpr, tpr, _ = metrics.roc_curve(Y_Test_Data,  ModelPrediction_Probability)\n",
    "    roc_auc = metrics.auc(fpr, tpr)\n",
    "    PyPlot.figure()\n",
    "    lw = 2\n",
    "    PyPlot.plot(\n",
    "        fpr,\n",
    "        tpr,\n",
    "        color=\"darkorange\",\n",
    "        lw=lw,\n",
    "        label=\"ROC curve (area = %0.2f)\" % roc_auc,\n",
    "    )\n",
    "    PyPlot.plot([0, 1], [0, 1], color=\"navy\", lw=lw, linestyle=\"--\")\n",
    "    PyPlot.xlabel(\"False Positive Rate\")\n",
    "    PyPlot.ylabel(\"True Positive Rate\")\n",
    "    PyPlot.title(\"Receiver operating characteristic Curve\")\n",
    "    PyPlot.legend(loc=\"lower right\")\n",
    "    PyPlot.show()   "
   ]
  },
  {
   "cell_type": "code",
   "execution_count": 37,
   "id": "6227d7df",
   "metadata": {
    "scrolled": false
   },
   "outputs": [
    {
     "name": "stdout",
     "output_type": "stream",
     "text": [
      "Classifaction Report Of Neural Network \n",
      "              precision    recall  f1-score   support\n",
      "\n",
      "           0       0.92      0.92      0.92      2145\n",
      "           1       0.92      0.92      0.92      2145\n",
      "\n",
      "    accuracy                           0.92      4290\n",
      "   macro avg       0.92      0.92      0.92      4290\n",
      "weighted avg       0.92      0.92      0.92      4290\n",
      "\n",
      "\n",
      "\n",
      "Accuracy score of the Neural Network model is =  0.9233100233100233\n",
      "\n",
      "\n",
      "Confusion Matrix Of Neural Network Model\n"
     ]
    },
    {
     "data": {
      "image/png": "[encoded data removed]",
      "text/plain": [
       "<Figure size 432x288 with 2 Axes>"
      ]
     },
     "metadata": {
      "needs_background": "light"
     },
     "output_type": "display_data"
    },
    {
     "data": {
      "image/png": "[encoded data removed]",
      "text/plain": [
       "<Figure size 432x288 with 1 Axes>"
      ]
     },
     "metadata": {
      "needs_background": "light"
     },
     "output_type": "display_data"
    }
   ],
   "source": [
    "NeuralNetworks()"
   ]
  },
  {
   "cell_type": "code",
   "execution_count": null,
   "id": "840e7b76",
   "metadata": {},
   "outputs": [],
   "source": []
  },
  {
   "cell_type": "code",
   "execution_count": null,
   "id": "956e8d31",
   "metadata": {},
   "outputs": [],
   "source": []
  },
  {
   "cell_type": "markdown",
   "id": "efbadfb6",
   "metadata": {},
   "source": [
    "# Graph comparing all Models Accuracies"
   ]
  },
  {
   "cell_type": "code",
   "execution_count": 40,
   "id": "4acbdc58",
   "metadata": {},
   "outputs": [
    {
     "data": {
      "image/png": "[encoded data removed]",
      "text/plain": [
       "<Figure size 1080x648 with 1 Axes>"
      ]
     },
     "metadata": {
      "needs_background": "light"
     },
     "output_type": "display_data"
    }
   ],
   "source": [
    "y = AccuracyScoreList\n",
    "ModelName=['Random Forest Tree','Sample Vector Machine','Decision Tree','Kth Nearest Neighbour','Logistic Regression','Neural Networks']\n",
    "f = PyPlot.figure()\n",
    "f.set_figwidth(15)\n",
    "f.set_figheight(9)\n",
    "PyPlot.plot( ModelName,AccuracyScoreList, marker=\"*\",label ='Accuracy Score List')\n",
    "PyPlot.plot( ModelName,PrecisionScoreList, marker=\"o\",label ='Precision Score List')\n",
    "PyPlot.plot( ModelName,RecallScoreList,linestyle='dashed', marker=\"2\",label ='Recall Score List')\n",
    "PyPlot.title('Accuracy, Precision, F-1 Scores And Recall Of Various Models')\n",
    "PyPlot.plot( ModelName,F1ScoreList, marker=\"v\",label ='F1ScoreList')\n",
    "PyPlot.legend()\n",
    "PyPlot.show()"
   ]
  },
  {
   "cell_type": "code",
   "execution_count": null,
   "id": "3ef24bd2",
   "metadata": {},
   "outputs": [],
   "source": []
  },
  {
   "cell_type": "code",
   "execution_count": null,
   "id": "af183dab",
   "metadata": {},
   "outputs": [],
   "source": []
  },
  {
   "cell_type": "markdown",
   "id": "f4b60b8b",
   "metadata": {},
   "source": [
    "# Exporting Files in csv format to open access them in front-end"
   ]
  },
  {
   "cell_type": "code",
   "execution_count": 41,
   "id": "0cf6fabe",
   "metadata": {},
   "outputs": [],
   "source": [
    "'''Exporting Files in csv format to open access them in front-end'''\n",
    "DataDictionary = {'Model Name': ModelName, 'Accuracy': AccuracyScoreList,'Precision Score':PrecisionScoreList ,'Recall Score':RecallScoreList, 'F1Score':F1ScoreList}         \n",
    "ExportDataFile = Pandas.DataFrame(DataDictionary)   \n",
    "# saving the dataframe \n",
    "ExportDataFile.to_csv('DataSet/DataExported.csv')\n",
    "ExportDataFile.to_csv('FrontEnd/DataExported.csv')"
   ]
  },
  {
   "cell_type": "code",
   "execution_count": null,
   "id": "56e1cff8",
   "metadata": {},
   "outputs": [],
   "source": []
  },
  {
   "cell_type": "code",
   "execution_count": 2,
   "id": "09a23a23",
   "metadata": {},
   "outputs": [
    {
     "ename": "NameError",
     "evalue": "name 'jt' is not defined",
     "output_type": "error",
     "traceback": [
      "\u001b[1;31m---------------------------------------------------------------------------\u001b[0m",
      "\u001b[1;31mNameError\u001b[0m                                 Traceback (most recent call last)",
      "\u001b[1;32m~\\AppData\\Local\\Temp/ipykernel_480/2511217484.py\u001b[0m in \u001b[0;36m<module>\u001b[1;34m\u001b[0m\n\u001b[1;32m----> 1\u001b[1;33m \u001b[0mjt\u001b[0m \u001b[1;33m-\u001b[0m\u001b[0ml\u001b[0m\u001b[1;33m\u001b[0m\u001b[1;33m\u001b[0m\u001b[0m\n\u001b[0m",
      "\u001b[1;31mNameError\u001b[0m: name 'jt' is not defined"
     ]
    }
   ],
   "source": [
    "jt -l"
   ]
  },
  {
   "cell_type": "markdown",
   "id": "73b8a6eb",
   "metadata": {},
   "source": [
    "# Opening Front-end Sites"
   ]
  },
  {
   "cell_type": "code",
   "execution_count": 4,
   "id": "44a14c8a",
   "metadata": {},
   "outputs": [
    {
     "data": {
      "text/plain": [
       "True"
      ]
     },
     "execution_count": 4,
     "metadata": {},
     "output_type": "execute_result"
    }
   ],
   "source": [
    "''''''\n",
    "webbrowser.open(\"https://ayushaj-16.github.io/Minor-Project/\", new=1)\n",
    "#webbrowser.open(\"https://Google.com\", new=1)"
   ]
  }
 ],
 "metadata": {
  "kernelspec": {
   "display_name": "Python 3 (ipykernel)",
   "language": "python",
   "name": "python3"
  },
  "language_info": {
   "codemirror_mode": {
    "name": "ipython",
    "version": 3
   },
   "file_extension": ".py",
   "mimetype": "text/x-python",
   "name": "python",
   "nbconvert_exporter": "python",
   "pygments_lexer": "ipython3",
   "version": "3.9.7"
  }
 },
 "nbformat": 4,
 "nbformat_minor": 5
}
